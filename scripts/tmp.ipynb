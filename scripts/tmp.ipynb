{
 "cells": [
  {
   "cell_type": "code",
   "execution_count": 1,
   "metadata": {},
   "outputs": [],
   "source": [
    "import os \n",
    "import json \n",
    "import pandas as pd "
   ]
  },
  {
   "cell_type": "code",
   "execution_count": 4,
   "metadata": {},
   "outputs": [],
   "source": [
    "file_list = [i for i in os.walk(\"./tmp_data\")][0][2]\n",
    "test_data = {}\n",
    "with open(f\"./tmp_data/{file_list[0]}\", \"r\") as infile: \n",
    "    tmp = json.load(infile)\n",
    "for i in tmp:\n",
    "    test_data[i] = [tmp[i]]\n",
    "for i in file_list[1:]:\n",
    "    with open(f\"./tmp_data/{i}\", \"r\") as infile: \n",
    "        tmp = json.load(infile)\n",
    "    for i in tmp:\n",
    "        test_data[i].append(tmp[i])\n"
   ]
  },
  {
   "cell_type": "code",
   "execution_count": 6,
   "metadata": {},
   "outputs": [],
   "source": [
    "tmp_df = pd.DataFrame(test_data)\n",
    "tmp_df.to_csv(\"./test_data.csv\",sep=\";\",index=False)"
   ]
  }
 ],
 "metadata": {
  "interpreter": {
   "hash": "916dbcbb3f70747c44a77c7bcd40155683ae19c65e1c03b4aa3499c5328201f1"
  },
  "kernelspec": {
   "display_name": "Python 3.9.7 64-bit",
   "language": "python",
   "name": "python3"
  },
  "language_info": {
   "codemirror_mode": {
    "name": "ipython",
    "version": 3
   },
   "file_extension": ".py",
   "mimetype": "text/x-python",
   "name": "python",
   "nbconvert_exporter": "python",
   "pygments_lexer": "ipython3",
   "version": "3.9.7"
  },
  "orig_nbformat": 4
 },
 "nbformat": 4,
 "nbformat_minor": 2
}
