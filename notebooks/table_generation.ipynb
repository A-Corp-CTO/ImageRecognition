{
 "cells": [
  {
   "cell_type": "code",
   "execution_count": 25,
   "metadata": {},
   "outputs": [],
   "source": [
    "import pandas as pd"
   ]
  },
  {
   "cell_type": "code",
   "execution_count": 26,
   "metadata": {},
   "outputs": [],
   "source": [
    "def get_base_stats(filename):\n",
    "    base_features = pd.read_csv(filename)\n",
    "    melanoma_count = sum(base_features['melanoma'])\n",
    "    sk_count = sum(base_features['seborrheic_keratosis'])\n",
    "    tmp_df = base_features[base_features['melanoma'] == 0]\n",
    "    tmp_df = tmp_df[tmp_df['seborrheic_keratosis'] == 0]\n",
    "    healthy = len(tmp_df)\n",
    "    mel_percent = melanoma_count / len(base_features)\n",
    "    sk_percent = sk_count / len(base_features)\n",
    "    return len(base_features), int(melanoma_count), int(sk_count), healthy, mel_percent, sk_percent\n",
    "\n"
   ]
  },
  {
   "cell_type": "code",
   "execution_count": 27,
   "metadata": {},
   "outputs": [],
   "source": [
    "result_dict = {\n",
    "    \"Dataset\": [],\n",
    "    \"Total\" : [],\n",
    "    \"Healthy\": [],\n",
    "    \"Melanoma\": [], \n",
    "    \"Seborrheic Keratosis\": [], \n",
    "    \"Melanoma percentage\": [],\n",
    "    \"Seborrheic Keratosis percentage\": [], \n",
    "}"
   ]
  },
  {
   "cell_type": "code",
   "execution_count": 28,
   "metadata": {},
   "outputs": [],
   "source": [
    "for i in [('../data/example_ground_truth.csv','Example'),('../data/ISIC-2017_Training_Part3_GroundTruth.csv', 'ISIC-2017')]:\n",
    "    total, melanoma, sk, healthy,mel_p, sk_p = get_base_stats(i[0])\n",
    "    result_dict['Dataset'].append(i[1])\n",
    "    result_dict['Total'].append(total)\n",
    "    result_dict['Healthy'].append(healthy)\n",
    "    result_dict['Melanoma'].append(melanoma)\n",
    "    result_dict['Seborrheic Keratosis'].append(sk)\n",
    "    result_dict['Melanoma percentage'].append(f\"{mel_p:.0%}\")\n",
    "    result_dict[\"Seborrheic Keratosis percentage\"].append(f\"{sk_p:.0%}\")"
   ]
  },
  {
   "cell_type": "code",
   "execution_count": 29,
   "metadata": {},
   "outputs": [],
   "source": [
    "base_stat_df = pd.DataFrame(result_dict)\n",
    "with open(\"../report/tables/base_stats.tex\", \"w\") as outfile: \n",
    "    base_stat_df.to_latex(outfile,index=False)"
   ]
  }
 ],
 "metadata": {
  "interpreter": {
   "hash": "916dbcbb3f70747c44a77c7bcd40155683ae19c65e1c03b4aa3499c5328201f1"
  },
  "kernelspec": {
   "display_name": "Python 3.9.7 64-bit",
   "language": "python",
   "name": "python3"
  },
  "language_info": {
   "codemirror_mode": {
    "name": "ipython",
    "version": 3
   },
   "file_extension": ".py",
   "mimetype": "text/x-python",
   "name": "python",
   "nbconvert_exporter": "python",
   "pygments_lexer": "ipython3",
   "version": "3.9.7"
  },
  "orig_nbformat": 4
 },
 "nbformat": 4,
 "nbformat_minor": 2
}
