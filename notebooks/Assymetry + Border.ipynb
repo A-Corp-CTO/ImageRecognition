{
 "cells": [
  {
   "cell_type": "code",
   "execution_count": 9,
   "id": "a496d11a",
   "metadata": {},
   "outputs": [],
   "source": [
    "import matplotlib.pyplot as plt \n",
    "import numpy as np \n",
    "import pandas as pd\n",
    "import os # allows us to read the filenames in order to create the image_id collumn\n",
    "import glob # allows you to import all images using a list comprehension\n",
    "from skimage import morphology\n",
    "from skimage.transform import rotate"
   ]
  },
  {
   "cell_type": "code",
   "execution_count": 10,
   "id": "d5e7ac18",
   "metadata": {},
   "outputs": [],
   "source": [
    "masks = [plt.imread(file) for file in glob.glob(\"../data/example_segmentation/*.png\")] # importing all images"
   ]
  },
  {
   "cell_type": "code",
   "execution_count": 11,
   "id": "51626607",
   "metadata": {},
   "outputs": [],
   "source": [
    "image_ids = []\n",
    "\n",
    "for root, dirs, files in os.walk(\"../data/example_image\"):\n",
    "    for name in files:\n",
    "        if name[-3:] != \"jpg\":\n",
    "            continue\n",
    "        image_ids.append(name[0:-4])\n",
    "        \n",
    "image_ids = np.array(image_ids)\n",
    "\n",
    "\n",
    "Areas = np.array([np.sum(mask) for mask in masks])\n",
    "\n",
    "brush = morphology.disk(3)\n",
    "Perimeters = np.array([np.sum(mask) - np.sum(morphology.binary_erosion(mask, brush)) for mask in masks])\n",
    "\n",
    "\n"
   ]
  },
  {
   "cell_type": "code",
   "execution_count": null,
   "id": "aea440b8",
   "metadata": {},
   "outputs": [],
   "source": [
    "def get_assymetry(mask, rotation = 180):\n",
    "    axes = 0\n",
    "    mask = np.pad(mask, 2000) # adding empty space around the image so no information is lost on rotation\n",
    "    length, width = mask.shape\n",
    "    diffs = []\n",
    "    \n",
    "    while axes * rotation < 180:\n",
    "        temp_mask = rotate(mask, axes * rotation)\n",
    "        length_lesion = np.nonzero(np.sum(temp_mask, axis = 0))[0][-1] - np.nonzero(np.sum(temp_mask, axis = 0))[0][0]\n",
    "        left_mask = temp_mask[0: width, 0:np.nonzero(np.sum(temp_mask, axis = 0))[0][0] + length_lesion//2]\n",
    "        right_mask = temp_mask[0: width, np.nonzero(np.sum(temp_mask, axis = 0))[0][0] + length_lesion//2:length]\n",
    "        diffs.append(np.abs(np.sum(left_mask)-np.sum(right_mask)))\n",
    "        \n",
    "        axes += 1\n",
    "    \n",
    "    diff = sum(diffs) / axes\n",
    "    \n",
    "    return diff / np.sum(mask)\n",
    "\n",
    "assymetries = np.array([get_assymetry(mask, rotation = 15) for mask in masks])"
   ]
  },
  {
   "cell_type": "code",
   "execution_count": null,
   "id": "5c2bd96e",
   "metadata": {},
   "outputs": [],
   "source": [
    "columns = [\"image_id\", \"Area\", \"Perimeter\", \"Compactness\", \"Assymetry ratio\"]\n",
    "data = np.array([image_ids, Areas, Perimeters, np.round((4*np.pi*Areas)/Perimeters**2, 4), assymetries]).T\n",
    "AreaPerimeterData = pd.DataFrame(data = data, columns = columns)\n",
    "AreaPerimeterData"
   ]
  },
  {
   "cell_type": "code",
   "execution_count": null,
   "id": "c0140377",
   "metadata": {},
   "outputs": [],
   "source": []
  }
 ],
 "metadata": {
  "kernelspec": {
   "display_name": "Python 3",
   "language": "python",
   "name": "python3"
  },
  "language_info": {
   "codemirror_mode": {
    "name": "ipython",
    "version": 3
   },
   "file_extension": ".py",
   "mimetype": "text/x-python",
   "name": "python",
   "nbconvert_exporter": "python",
   "pygments_lexer": "ipython3",
   "version": "3.8.8"
  }
 },
 "nbformat": 4,
 "nbformat_minor": 5
}
