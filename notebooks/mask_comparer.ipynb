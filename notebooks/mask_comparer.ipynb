{
 "cells": [
  {
   "cell_type": "code",
   "execution_count": 15,
   "metadata": {},
   "outputs": [],
   "source": [
    "from groupN2_mask_creation import create_mask\n",
    "import random \n",
    "import os \n",
    "from matplotlib import pyplot as plt \n",
    "import json \n",
    "from joblib import Parallel, delayed\n",
    "import multiprocessing\n",
    "import time \n",
    "import pandas as pd \n",
    "import skimage\n",
    "import numpy as np"
   ]
  },
  {
   "cell_type": "code",
   "execution_count": 8,
   "metadata": {},
   "outputs": [],
   "source": [
    "file_list = [i for i in os.walk(\"../data/test_data\")][0][2]\n",
    "test_mask_list = [i for i in os.walk(\"../data/mask_tests\")][0][2]\n"
   ]
  },
  {
   "cell_type": "code",
   "execution_count": 27,
   "metadata": {},
   "outputs": [
    {
     "name": "stdout",
     "output_type": "stream",
     "text": [
      "{'image': [], 'segments': [], 'disk_size': [], 'slic_sigma': [], 'compactness': [], 'cut_off': [], 'x_dim': [], 'y_dim': [], 'pic_area': [], 'false_pos': [], 'false_neg': [], 'true_mask_area': [], 'common_area': [], 'area': [], 'area_diff': []}\n"
     ]
    }
   ],
   "source": [
    "test_results = {\n",
    "    \"image\": [],\n",
    "    \"segments\": [],\n",
    "    \"disk_size\": [],\n",
    "    \"slic_sigma\": [],\n",
    "    \"compactness\": [],\n",
    "    \"cut_off\": [],\n",
    "    \"x_dim\": [],\n",
    "    \"y_dim\": [],\n",
    "    \"pic_area\": [],\n",
    "    \"false_pos\": [],\n",
    "    \"false_neg\": [],\n",
    "    \"true_mask_area\": [],\n",
    "    \"common_area\": [],\n",
    "    \"area\": [],\n",
    "    \"area_diff\": [],\n",
    "    \"attribute_set\": []\n",
    "}\n",
    "# test_results = pd.DataFrame(test_results)\n",
    "print(test_results)"
   ]
  },
  {
   "cell_type": "code",
   "execution_count": 28,
   "metadata": {},
   "outputs": [
    {
     "name": "stdout",
     "output_type": "stream",
     "text": [
      "ISIC_0003462_1.png\n"
     ]
    },
    {
     "ename": "KeyError",
     "evalue": "'attribute_set'",
     "output_type": "error",
     "traceback": [
      "\u001b[0;31m---------------------------------------------------------------------------\u001b[0m",
      "\u001b[0;31mKeyError\u001b[0m                                  Traceback (most recent call last)",
      "\u001b[0;32m/tmp/ipykernel_160190/3775410113.py\u001b[0m in \u001b[0;36m<module>\u001b[0;34m\u001b[0m\n\u001b[1;32m     47\u001b[0m     \u001b[0mtmp_results\u001b[0m\u001b[0;34m[\u001b[0m\u001b[0;34m\"area_diff\"\u001b[0m\u001b[0;34m]\u001b[0m \u001b[0;34m=\u001b[0m \u001b[0mtmp_results\u001b[0m\u001b[0;34m[\u001b[0m\u001b[0;34m\"false_neg\"\u001b[0m\u001b[0;34m]\u001b[0m \u001b[0;34m+\u001b[0m \u001b[0mtmp_results\u001b[0m\u001b[0;34m[\u001b[0m\u001b[0;34m\"false_pos\"\u001b[0m\u001b[0;34m]\u001b[0m\u001b[0;34m\u001b[0m\u001b[0;34m\u001b[0m\u001b[0m\n\u001b[1;32m     48\u001b[0m     \u001b[0;32mfor\u001b[0m \u001b[0mi\u001b[0m \u001b[0;32min\u001b[0m \u001b[0mtmp_results\u001b[0m\u001b[0;34m:\u001b[0m\u001b[0;34m\u001b[0m\u001b[0;34m\u001b[0m\u001b[0m\n\u001b[0;32m---> 49\u001b[0;31m         \u001b[0mtest_results\u001b[0m\u001b[0;34m[\u001b[0m\u001b[0mi\u001b[0m\u001b[0;34m]\u001b[0m\u001b[0;34m.\u001b[0m\u001b[0mappend\u001b[0m\u001b[0;34m(\u001b[0m\u001b[0mtmp_results\u001b[0m\u001b[0;34m[\u001b[0m\u001b[0mi\u001b[0m\u001b[0;34m]\u001b[0m\u001b[0;34m)\u001b[0m\u001b[0;34m\u001b[0m\u001b[0;34m\u001b[0m\u001b[0m\n\u001b[0m\u001b[1;32m     50\u001b[0m \u001b[0;34m\u001b[0m\u001b[0m\n\u001b[1;32m     51\u001b[0m     \u001b[0;31m# print(sum(sum(mask-tmp_mask)))\u001b[0m\u001b[0;34m\u001b[0m\u001b[0;34m\u001b[0m\u001b[0m\n",
      "\u001b[0;31mKeyError\u001b[0m: 'attribute_set'"
     ]
    }
   ],
   "source": [
    "base_path = \"../data/mask_tests/\"\n",
    "for i in sorted(test_mask_list):\n",
    "    print(i)\n",
    "    tmp = i[:-4].split(\"_\")\n",
    "    test_mask = plt.imread(f\"{base_path}{i}\")\n",
    "    with open(f\"../data/test_data/{tmp[2]}.json\",\"r\") as infile: \n",
    "        data = json.load(infile)\n",
    "    tmp_results = {\n",
    "    \"image\": f\"{tmp[0]}_{tmp[1]}\",\n",
    "    \"segments\": 0,\n",
    "    \"disk_size\": 0,\n",
    "    \"slic_sigma\": 0,\n",
    "    \"compactness\": 0,\n",
    "    \"cut_off\": 0,\n",
    "    \"x_dim\": len(test_mask[0]),\n",
    "    \"y_dim\": len(test_mask),\n",
    "    \"pic_area\": len(test_mask[0]) * len(test_mask),\n",
    "    \"false_pos\": 0,\n",
    "    \"false_neg\": 0,\n",
    "    \"area\": 0,\n",
    "    \"true_mask_area\": 0,\n",
    "    \"common_area\": 0,\n",
    "    \"area_diff\": 0,\n",
    "    \"attribute_set\": 0\n",
    "    }\n",
    "    for i in data: \n",
    "        tmp_results[i] = data[i]\n",
    "    \n",
    "    tmp_mask = np.zeros((len(test_mask),len(test_mask[0])))\n",
    "    for i in range(len(test_mask)):\n",
    "        for j in range(len(test_mask[0])):\n",
    "            if test_mask[i,j,0] == 1:\n",
    "                tmp_mask[i,j] = 1\n",
    "    mask = plt.imread(f\"../data/example_segmentation/{tmp[0]}_{tmp[1]}_segmentation.png\")\n",
    "    for i in range(tmp_results[\"y_dim\"]):\n",
    "        for j in range(tmp_results[\"x_dim\"]):\n",
    "\n",
    "            if tmp_mask[i,j] == 1 and mask[i,j] == 0:\n",
    "                tmp_results[\"false_pos\"] += 1 \n",
    "                tmp_results[\"area\"] += 1 \n",
    "            elif tmp_mask[i,j] == 0 and mask[i,j] == 1:\n",
    "                tmp_results[\"false_neg\"] += 1\n",
    "                tmp_results[\"true_mask_area\"] += 1\n",
    "            else: \n",
    "                tmp_results[\"true_mask_area\"] += 1\n",
    "                tmp_results[\"common_area\"] += 1 \n",
    "                tmp_results[\"area\"]\n",
    "    tmp_results[\"area_diff\"] = tmp_results[\"false_neg\"] + tmp_results[\"false_pos\"] \n",
    "    for i in tmp_results:\n",
    "        test_results[i].append(tmp_results[i])     \n",
    "    \n",
    "    # print(sum(sum(mask-tmp_mask)))\n",
    "    "
   ]
  }
 ],
 "metadata": {
  "interpreter": {
   "hash": "916dbcbb3f70747c44a77c7bcd40155683ae19c65e1c03b4aa3499c5328201f1"
  },
  "kernelspec": {
   "display_name": "Python 3.9.7 64-bit",
   "language": "python",
   "name": "python3"
  },
  "language_info": {
   "codemirror_mode": {
    "name": "ipython",
    "version": 3
   },
   "file_extension": ".py",
   "mimetype": "text/x-python",
   "name": "python",
   "nbconvert_exporter": "python",
   "pygments_lexer": "ipython3",
   "version": "3.9.7"
  },
  "orig_nbformat": 4
 },
 "nbformat": 4,
 "nbformat_minor": 2
}
