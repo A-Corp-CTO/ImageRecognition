{
 "cells": [
  {
   "cell_type": "code",
   "execution_count": 1,
   "metadata": {},
   "outputs": [],
   "source": [
    "from matplotlib import pyplot as plt \n",
    "import numpy as np \n",
    "from skimage import morphology\n",
    "from skimage import segmentation\n",
    "from joblib import Parallel, delayed\n",
    "import multiprocessing\n",
    "import skimage"
   ]
  },
  {
   "cell_type": "code",
   "execution_count": 2,
   "metadata": {},
   "outputs": [],
   "source": [
    "def rgb2gray(rgb):\n",
    "    return np.dot(rgb[...,:3], [0.2989, 0.5870, 0.1140]) \n",
    "\n"
   ]
  },
  {
   "cell_type": "code",
   "execution_count": 94,
   "metadata": {},
   "outputs": [],
   "source": [
    "def create_mask(im, segments, disk_size, slic_sigma, slic_compactness,cut_off): \n",
    "    im_col = plt.imread(im)\n",
    "    dim_one, dim_two = (len(im_col),len(im_col[0]))\n",
    "    \n",
    "    im_gray = rgb2gray(im_col)\n",
    "    thres = skimage.filters.threshold_otsu(im_gray)\n",
    "    mask = im_gray < thres\n",
    "    struct_el = morphology.disk(disk_size)\n",
    "    \n",
    "    opened = morphology.closing(mask,struct_el)\n",
    "    tmp_mask = skimage.segmentation.clear_border(opened)\n",
    "    tmp_label = skimage.measure.label(tmp_mask)\n",
    "    tmp_label = tmp_label * tmp_mask\n",
    "\n",
    "    \n",
    "    col_mask = im_gray * tmp_label \n",
    "    tmp = segmentation.slic(col_mask, n_segments = segments, sigma = slic_sigma, compactness = slic_compactness, start_label = 1)\n",
    "    tmp_list = []\n",
    "    tmp_dict = {}\n",
    "    for i in range(1,segments+1): \n",
    "        tmp_index = np.argwhere(seq == i)\n",
    "        # tmp_array = np.where(tmp == i)\n",
    "        tmp_index = [(k[0],k[1]) for k in tmp_index]\n",
    "        tmp_dict[str(i)] = {\"Coordinates\": tmp_index,\n",
    "                    \"Values\": [mask[k[0],k[1]] for k in tmp_index],\n",
    "                    \"Sum\": 0,\n",
    "                    \"Result\": 0}\n",
    "        tmp_dict[str(i)]['Sum'] = sum(tmp_dict[str(i)]['Values'])\n",
    "        if tmp_dict[str(i)][\"Sum\"] > len(tmp_dict[str(i)][\"Values\"])*cut_off:\n",
    "            tmp_dict[str(i)][\"Result\"] = 1\n",
    "    tmp_tmp_list = []\n",
    "    for i in tmp_dict: \n",
    "        if tmp_dict[i]['Result'] == 1: \n",
    "            # print(i)\n",
    "            tmp_tmp_list.append(int(i))\n",
    "\n",
    "    tmp_array = np.zeros((dim_one,dim_two))\n",
    "    for i in tmp_tmp_list: \n",
    "        for k in tmp_dict[str(i)]['Coordinates']: \n",
    "            tmp_array[k[0],k[1]] = 1\n",
    "    \n",
    "    return tmp_array \n"
   ]
  },
  {
   "cell_type": "code",
   "execution_count": 95,
   "metadata": {},
   "outputs": [],
   "source": [
    "im = create_mask(\"../data/example_image/ISIC_0001852.jpg\",500,5,1,10,0.6)"
   ]
  },
  {
   "cell_type": "code",
   "execution_count": 96,
   "metadata": {},
   "outputs": [],
   "source": []
  }
 ],
 "metadata": {
  "interpreter": {
   "hash": "916dbcbb3f70747c44a77c7bcd40155683ae19c65e1c03b4aa3499c5328201f1"
  },
  "kernelspec": {
   "display_name": "Python 3.9.7 64-bit",
   "language": "python",
   "name": "python3"
  },
  "language_info": {
   "codemirror_mode": {
    "name": "ipython",
    "version": 3
   },
   "file_extension": ".py",
   "mimetype": "text/x-python",
   "name": "python",
   "nbconvert_exporter": "python",
   "pygments_lexer": "ipython3",
   "version": "3.9.7"
  },
  "orig_nbformat": 4
 },
 "nbformat": 4,
 "nbformat_minor": 2
}
