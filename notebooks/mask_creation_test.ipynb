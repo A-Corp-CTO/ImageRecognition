{
 "cells": [
  {
   "cell_type": "code",
   "execution_count": 21,
   "metadata": {},
   "outputs": [],
   "source": [
    "from matplotlib import pyplot as plt \n",
    "import numpy as np \n",
    "from skimage import morphology\n",
    "from skimage import segmentation"
   ]
  },
  {
   "cell_type": "code",
   "execution_count": 22,
   "metadata": {},
   "outputs": [],
   "source": [
    "def rgb2gray(rgb):\n",
    "    return np.dot(rgb[...,:3], [0.2989, 0.5870, 0.1140]) \n",
    "\n"
   ]
  },
  {
   "cell_type": "code",
   "execution_count": 23,
   "metadata": {},
   "outputs": [],
   "source": [
    "def create_mask(im): \n",
    "    im_col = plt.imread(im)\n",
    "    im_gray = rgb2gray(im_col)\n",
    "    mask = im_gray < 120 \n",
    "    struct_el = morphology.disk(5)\n",
    "    opened = morphology.opening(mask,struct_el)\n",
    "    tmp = segmentation.slic(im_col, n_segments = 500, sigma = 1, compactness = 10, start_label = 1)\n",
    "    \n",
    "    # plt.imshow(segmentation.mark_boundaries(opened,tmp), cmap=\"gray\")\n",
    "    # white_list = []\n",
    "    # black_list = []\n",
    "    # for i in tmp:\n",
    "    #     for j in i: \n",
    "            \n",
    "    return (tmp, opened)\n"
   ]
  },
  {
   "cell_type": "code",
   "execution_count": 25,
   "metadata": {},
   "outputs": [],
   "source": [
    "tmp, mask = create_mask(\"../data/example_image/ISIC_0001769.jpg\")\n"
   ]
  },
  {
   "cell_type": "code",
   "execution_count": 26,
   "metadata": {},
   "outputs": [],
   "source": [
    "tmp_list = []\n",
    "tmp_dict = {}\n",
    "for i in range(len(tmp)):\n",
    "    for j in range(len(tmp[i])): \n",
    "        if tmp[i][j] not in tmp_list:\n",
    "            tmp_list.append(tmp[i][j])\n",
    "            tmp_dict[str(tmp[i][j])] = {\n",
    "                \"Coordinates\": [(i,j)],\n",
    "                \"Values\": [mask[i][j]],\n",
    "                \"Sum\": 0,\n",
    "                \"Result\": 0\n",
    "            } \n",
    "        else: \n",
    "            tmp_dict[str(tmp[i][j])][\"Coordinates\"].append((i,j))\n",
    "            tmp_dict[str(tmp[i][j])][\"Values\"].append(mask[i][j])\n",
    "\n",
    "for i in tmp_list:\n",
    "    tmp_dict[str(i)][\"Sum\"] = sum(tmp_dict[str(i)][\"Values\"])\n",
    "    if tmp_dict[str(i)][\"Sum\"] > len(tmp_dict[str(i)][\"Values\"])/2:\n",
    "        tmp_dict[str(i)][\"Result\"] = 1\n",
    "            # if mask[i][j]:\n",
    "            #     tmp_list.append(j) \n",
    "        "
   ]
  },
  {
   "cell_type": "code",
   "execution_count": 27,
   "metadata": {},
   "outputs": [
    {
     "name": "stdout",
     "output_type": "stream",
     "text": [
      "37\n",
      "441\n"
     ]
    }
   ],
   "source": [
    "ones = 0 \n",
    "zeros = 0\n",
    "\n",
    "\n",
    "for i in tmp_dict.keys():\n",
    "    if tmp_dict[i][\"Result\"] == 0:\n",
    "        zeros += 1 \n",
    "    else: \n",
    "        ones += 1 \n",
    "print(ones)\n",
    "print(zeros)"
   ]
  }
 ],
 "metadata": {
  "interpreter": {
   "hash": "916dbcbb3f70747c44a77c7bcd40155683ae19c65e1c03b4aa3499c5328201f1"
  },
  "kernelspec": {
   "display_name": "Python 3.9.7 64-bit",
   "language": "python",
   "name": "python3"
  },
  "language_info": {
   "codemirror_mode": {
    "name": "ipython",
    "version": 3
   },
   "file_extension": ".py",
   "mimetype": "text/x-python",
   "name": "python",
   "nbconvert_exporter": "python",
   "pygments_lexer": "ipython3",
   "version": "3.9.7"
  },
  "orig_nbformat": 4
 },
 "nbformat": 4,
 "nbformat_minor": 2
}
