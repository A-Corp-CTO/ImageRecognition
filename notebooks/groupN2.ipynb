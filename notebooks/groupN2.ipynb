{
 "cells": [
  {
   "cell_type": "markdown",
   "metadata": {},
   "source": [
    "# Project 2 - Medical Imaging "
   ]
  },
  {
   "cell_type": "markdown",
   "metadata": {},
   "source": [
    "## Imports"
   ]
  },
  {
   "cell_type": "code",
   "execution_count": 1,
   "metadata": {},
   "outputs": [],
   "source": [
    "import os \n",
    "import re \n",
    "\n",
    "import numpy as np \n",
    "import pandas as pd \n",
    "from PIL import Image \n",
    "from matplotlib import pyplot as plt \n",
    "import seaborn as sns \n",
    "\n",
    "import skimage\n",
    "\n",
    "\n"
   ]
  },
  {
   "cell_type": "markdown",
   "metadata": {},
   "source": [
    "## Global Variables"
   ]
  },
  {
   "cell_type": "code",
   "execution_count": 2,
   "metadata": {},
   "outputs": [],
   "source": [
    "# Initial parameters for running the notebook \n",
    "PREPROCESS = True \n",
    "COMPUTE_FEATURES = True "
   ]
  },
  {
   "cell_type": "code",
   "execution_count": 6,
   "metadata": {},
   "outputs": [],
   "source": [
    "# Paths to directories used \n",
    "\n",
    "ROOT_DIR = \"../\"\n",
    "DATA_DIR = f\"{ROOT_DIR}data/\"\n",
    "IM_DIR = f\"{DATA_DIR}example_image/\"\n",
    "MASK_DIR = f\"{DATA_DIR}example_segmentation/\"\n",
    "DIAGNOSIS_PATH = f\"{DATA_DIR}example_ground_truth.csv\""
   ]
  },
  {
   "cell_type": "code",
   "execution_count": 7,
   "metadata": {},
   "outputs": [
    {
     "name": "stdout",
     "output_type": "stream",
     "text": [
      "../data/example_image/\n"
     ]
    }
   ],
   "source": [
    "print(IM_DIR)"
   ]
  },
  {
   "cell_type": "code",
   "execution_count": 13,
   "metadata": {},
   "outputs": [],
   "source": [
    "# Load all filenames into a dictionary\n",
    "FILENAMES = {}\n",
    "FILENAMES['images'] = sorted([i for i in os.walk(IM_DIR)][0][2])\n",
    "FILENAMES['masks'] = sorted([i for i in os.walk(MASK_DIR)][0][2])\n",
    "FILENAMES['image_num'] = len(FILENAMES['images'])\n",
    "FILENAMES['cropped_images'] = []"
   ]
  },
  {
   "cell_type": "code",
   "execution_count": 14,
   "metadata": {},
   "outputs": [
    {
     "name": "stdout",
     "output_type": "stream",
     "text": [
      "{'images': ['ISIC_0001769.jpg', 'ISIC_0001852.jpg', 'ISIC_0001871.jpg', 'ISIC_0003462.jpg', 'ISIC_0003539.jpg', 'ISIC_0003582.jpg', 'ISIC_0003657.jpg', 'ISIC_0003805.jpg', 'ISIC_0004337.jpg', 'ISIC_0006651.jpg', 'ISIC_0006671.jpg', 'ISIC_0006815.jpg', 'ISIC_0006914.jpg', 'ISIC_0007141.jpg', 'ISIC_0007156.jpg', 'ISIC_0007235.jpg', 'ISIC_0007241.jpg', 'ISIC_0007332.jpg', 'ISIC_0007344.jpg', 'ISIC_0007528.jpg', 'ISIC_0007796.jpg', 'ISIC_0008025.jpg', 'ISIC_0008524.jpg', 'ISIC_0009995.jpg', 'ISIC_0010459.jpg', 'ISIC_0012099.jpg', 'ISIC_0012109.jpg', 'ISIC_0012126.jpg', 'ISIC_0012127.jpg', 'ISIC_0012143.jpg', 'ISIC_0012151.jpg', 'ISIC_0012159.jpg', 'ISIC_0012160.jpg', 'ISIC_0012191.jpg', 'ISIC_0012201.jpg', 'ISIC_0012204.jpg', 'ISIC_0012206.jpg', 'ISIC_0012210.jpg', 'ISIC_0012221.jpg', 'ISIC_0012222.jpg', 'ISIC_0012254.jpg', 'ISIC_0012256.jpg', 'ISIC_0012288.jpg', 'ISIC_0012306.jpg', 'ISIC_0012313.jpg', 'ISIC_0012316.jpg', 'ISIC_0012335.jpg', 'ISIC_0012380.jpg', 'ISIC_0012383.jpg', 'ISIC_0012400.jpg', 'ISIC_0012417.jpg', 'ISIC_0012434.jpg', 'ISIC_0012492.jpg', 'ISIC_0012513.jpg', 'ISIC_0012538.jpg', 'ISIC_0012547.jpg', 'ISIC_0012660.jpg', 'ISIC_0012684.jpg', 'ISIC_0012720.jpg', 'ISIC_0012746.jpg', 'ISIC_0012876.jpg', 'ISIC_0012927.jpg', 'ISIC_0012956.jpg', 'ISIC_0012959.jpg', 'ISIC_0012965.jpg', 'ISIC_0013010.jpg', 'ISIC_0013082.jpg', 'ISIC_0013104.jpg', 'ISIC_0013127.jpg', 'ISIC_0013128.jpg', 'ISIC_0013132.jpg', 'ISIC_0013188.jpg', 'ISIC_0013215.jpg', 'ISIC_0013232.jpg', 'ISIC_0013421.jpg', 'ISIC_0013491.jpg', 'ISIC_0013501.jpg', 'ISIC_0013518.jpg', 'ISIC_0013527.jpg', 'ISIC_0013549.jpg', 'ISIC_0013561.jpg', 'ISIC_0013562.jpg', 'ISIC_0013632.jpg', 'ISIC_0013637.jpg', 'ISIC_0013644.jpg', 'ISIC_0013651.jpg', 'ISIC_0013663.jpg', 'ISIC_0013702.jpg', 'ISIC_0013736.jpg', 'ISIC_0013793.jpg', 'ISIC_0013828.jpg', 'ISIC_0013863.jpg', 'ISIC_0013898.jpg', 'ISIC_0013945.jpg', 'ISIC_0014037.jpg', 'ISIC_0014038.jpg', 'ISIC_0014055.jpg', 'ISIC_0014139.jpg', 'ISIC_0014162.jpg', 'ISIC_0014178.jpg', 'ISIC_0014211.jpg', 'ISIC_0014212.jpg', 'ISIC_0014217.jpg', 'ISIC_0014302.jpg', 'ISIC_0014310.jpg', 'ISIC_0014382.jpg', 'ISIC_0014428.jpg', 'ISIC_0014558.jpg', 'ISIC_0014568.jpg', 'ISIC_0014572.jpg', 'ISIC_0014597.jpg', 'ISIC_0014601.jpg', 'ISIC_0014608.jpg', 'ISIC_0014610.jpg', 'ISIC_0014611.jpg', 'ISIC_0014616.jpg', 'ISIC_0014618.jpg', 'ISIC_0014620.jpg', 'ISIC_0014623.jpg', 'ISIC_0014624.jpg', 'ISIC_0014633.jpg', 'ISIC_0014635.jpg', 'ISIC_0014637.jpg', 'ISIC_0014688.jpg', 'ISIC_0014712.jpg', 'ISIC_0014809.jpg', 'ISIC_0014829.jpg', 'ISIC_0014857.jpg', 'ISIC_0014931.jpg', 'ISIC_0014937.jpg', 'ISIC_0014945.jpg', 'ISIC_0014946.jpg', 'ISIC_0014979.jpg', 'ISIC_0014985.jpg', 'ISIC_0014989.jpg', 'ISIC_0015043.jpg', 'ISIC_0015062.jpg', 'ISIC_0015124.jpg', 'ISIC_0015144.jpg', 'ISIC_0015211.jpg', 'ISIC_0015243.jpg', 'ISIC_0015256.jpg', 'ISIC_0015313.jpg', 'ISIC_0015372.jpg', 'ISIC_0015401.jpg', 'ISIC_0015443.jpg', 'ISIC_0015445.jpg', 'ISIC_0015483.jpg', 'ISIC_0015496.jpg', 'ISIC_0015627.jpg'], 'masks': ['ISIC_0001769_segmentation.png', 'ISIC_0001852_segmentation.png', 'ISIC_0001871_segmentation.png', 'ISIC_0003462_segmentation.png', 'ISIC_0003539_segmentation.png', 'ISIC_0003582_segmentation.png', 'ISIC_0003657_segmentation.png', 'ISIC_0003805_segmentation.png', 'ISIC_0004337_segmentation.png', 'ISIC_0006651_segmentation.png', 'ISIC_0006671_segmentation.png', 'ISIC_0006815_segmentation.png', 'ISIC_0006914_segmentation.png', 'ISIC_0007141_segmentation.png', 'ISIC_0007156_segmentation.png', 'ISIC_0007235_segmentation.png', 'ISIC_0007241_segmentation.png', 'ISIC_0007332_segmentation.png', 'ISIC_0007344_segmentation.png', 'ISIC_0007528_segmentation.png', 'ISIC_0007796_segmentation.png', 'ISIC_0008025_segmentation.png', 'ISIC_0008524_segmentation.png', 'ISIC_0009995_segmentation.png', 'ISIC_0010459_segmentation.png', 'ISIC_0012099_segmentation.png', 'ISIC_0012109_segmentation.png', 'ISIC_0012126_segmentation.png', 'ISIC_0012127_segmentation.png', 'ISIC_0012143_segmentation.png', 'ISIC_0012151_segmentation.png', 'ISIC_0012159_segmentation.png', 'ISIC_0012160_segmentation.png', 'ISIC_0012191_segmentation.png', 'ISIC_0012201_segmentation.png', 'ISIC_0012204_segmentation.png', 'ISIC_0012206_segmentation.png', 'ISIC_0012210_segmentation.png', 'ISIC_0012221_segmentation.png', 'ISIC_0012222_segmentation.png', 'ISIC_0012254_segmentation.png', 'ISIC_0012256_segmentation.png', 'ISIC_0012288_segmentation.png', 'ISIC_0012306_segmentation.png', 'ISIC_0012313_segmentation.png', 'ISIC_0012316_segmentation.png', 'ISIC_0012335_segmentation.png', 'ISIC_0012380_segmentation.png', 'ISIC_0012383_segmentation.png', 'ISIC_0012400_segmentation.png', 'ISIC_0012417_segmentation.png', 'ISIC_0012434_segmentation.png', 'ISIC_0012492_segmentation.png', 'ISIC_0012513_segmentation.png', 'ISIC_0012538_segmentation.png', 'ISIC_0012547_segmentation.png', 'ISIC_0012660_segmentation.png', 'ISIC_0012684_segmentation.png', 'ISIC_0012720_segmentation.png', 'ISIC_0012746_segmentation.png', 'ISIC_0012876_segmentation.png', 'ISIC_0012927_segmentation.png', 'ISIC_0012956_segmentation.png', 'ISIC_0012959_segmentation.png', 'ISIC_0012965_segmentation.png', 'ISIC_0013010_segmentation.png', 'ISIC_0013082_segmentation.png', 'ISIC_0013104_segmentation.png', 'ISIC_0013127_segmentation.png', 'ISIC_0013128_segmentation.png', 'ISIC_0013132_segmentation.png', 'ISIC_0013188_segmentation.png', 'ISIC_0013215_segmentation.png', 'ISIC_0013232_segmentation.png', 'ISIC_0013421_segmentation.png', 'ISIC_0013491_segmentation.png', 'ISIC_0013501_segmentation.png', 'ISIC_0013518_segmentation.png', 'ISIC_0013527_segmentation.png', 'ISIC_0013549_segmentation.png', 'ISIC_0013561_segmentation.png', 'ISIC_0013562_segmentation.png', 'ISIC_0013632_segmentation.png', 'ISIC_0013637_segmentation.png', 'ISIC_0013644_segmentation.png', 'ISIC_0013651_segmentation.png', 'ISIC_0013663_segmentation.png', 'ISIC_0013702_segmentation.png', 'ISIC_0013736_segmentation.png', 'ISIC_0013793_segmentation.png', 'ISIC_0013828_segmentation.png', 'ISIC_0013863_segmentation.png', 'ISIC_0013898_segmentation.png', 'ISIC_0013945_segmentation.png', 'ISIC_0014037_segmentation.png', 'ISIC_0014038_segmentation.png', 'ISIC_0014055_segmentation.png', 'ISIC_0014139_segmentation.png', 'ISIC_0014162_segmentation.png', 'ISIC_0014178_segmentation.png', 'ISIC_0014211_segmentation.png', 'ISIC_0014212_segmentation.png', 'ISIC_0014217_segmentation.png', 'ISIC_0014302_segmentation.png', 'ISIC_0014310_segmentation.png', 'ISIC_0014382_segmentation.png', 'ISIC_0014428_segmentation.png', 'ISIC_0014558_segmentation.png', 'ISIC_0014568_segmentation.png', 'ISIC_0014572_segmentation.png', 'ISIC_0014597_segmentation.png', 'ISIC_0014601_segmentation.png', 'ISIC_0014608_segmentation.png', 'ISIC_0014610_segmentation.png', 'ISIC_0014611_segmentation.png', 'ISIC_0014616_segmentation.png', 'ISIC_0014618_segmentation.png', 'ISIC_0014620_segmentation.png', 'ISIC_0014623_segmentation.png', 'ISIC_0014624_segmentation.png', 'ISIC_0014633_segmentation.png', 'ISIC_0014635_segmentation.png', 'ISIC_0014637_segmentation.png', 'ISIC_0014688_segmentation.png', 'ISIC_0014712_segmentation.png', 'ISIC_0014809_segmentation.png', 'ISIC_0014829_segmentation.png', 'ISIC_0014857_segmentation.png', 'ISIC_0014931_segmentation.png', 'ISIC_0014937_segmentation.png', 'ISIC_0014945_segmentation.png', 'ISIC_0014946_segmentation.png', 'ISIC_0014979_segmentation.png', 'ISIC_0014985_segmentation.png', 'ISIC_0014989_segmentation.png', 'ISIC_0015043_segmentation.png', 'ISIC_0015062_segmentation.png', 'ISIC_0015124_segmentation.png', 'ISIC_0015144_segmentation.png', 'ISIC_0015211_segmentation.png', 'ISIC_0015243_segmentation.png', 'ISIC_0015256_segmentation.png', 'ISIC_0015313_segmentation.png', 'ISIC_0015372_segmentation.png', 'ISIC_0015401_segmentation.png', 'ISIC_0015443_segmentation.png', 'ISIC_0015445_segmentation.png', 'ISIC_0015483_segmentation.png', 'ISIC_0015496_segmentation.png', 'ISIC_0015627_segmentation.png'], 'image_num': 150, 'cropped_images': []}\n"
     ]
    }
   ],
   "source": [
    "print(FILENAMES)"
   ]
  },
  {
   "cell_type": "markdown",
   "metadata": {},
   "source": [
    "## Preprocessing"
   ]
  },
  {
   "cell_type": "code",
   "execution_count": null,
   "metadata": {},
   "outputs": [],
   "source": []
  },
  {
   "cell_type": "markdown",
   "metadata": {},
   "source": [
    "## Processing "
   ]
  },
  {
   "cell_type": "code",
   "execution_count": null,
   "metadata": {},
   "outputs": [],
   "source": []
  },
  {
   "cell_type": "markdown",
   "metadata": {},
   "source": [
    "## Feature Extraction "
   ]
  },
  {
   "cell_type": "code",
   "execution_count": null,
   "metadata": {},
   "outputs": [],
   "source": [
    "## Find the area and perimeter of the mask \n",
    "def get_area_perimeter(mask): \n",
    "    area = 0 \n",
    "    perimeter = 0 \n",
    "    return area, perimeter "
   ]
  },
  {
   "cell_type": "code",
   "execution_count": null,
   "metadata": {},
   "outputs": [],
   "source": [
    "def get_compactness(mask): \n",
    "    area, perimenter = get_area_perimeter(mask) \n",
    "\n",
    "    return "
   ]
  },
  {
   "cell_type": "code",
   "execution_count": null,
   "metadata": {},
   "outputs": [],
   "source": [
    "def get_average_luminance(image): \n",
    "\n",
    "    return "
   ]
  },
  {
   "cell_type": "code",
   "execution_count": null,
   "metadata": {},
   "outputs": [],
   "source": [
    "def get_luminance_variability(image,measure=\"variance\"): \n",
    "\n",
    "    return "
   ]
  },
  {
   "cell_type": "code",
   "execution_count": null,
   "metadata": {},
   "outputs": [],
   "source": [
    "def get_avg_color(image): \n",
    "\n",
    "    return "
   ]
  },
  {
   "cell_type": "code",
   "execution_count": null,
   "metadata": {},
   "outputs": [],
   "source": [
    "def get_color_variability(image,measure=\"variance\"): \n",
    "\n",
    "    return "
   ]
  },
  {
   "cell_type": "code",
   "execution_count": null,
   "metadata": {},
   "outputs": [],
   "source": [
    "def get_assymetry(mask): \n",
    "    \n",
    "    return "
   ]
  }
 ],
 "metadata": {
  "interpreter": {
   "hash": "916dbcbb3f70747c44a77c7bcd40155683ae19c65e1c03b4aa3499c5328201f1"
  },
  "kernelspec": {
   "display_name": "Python 3.9.7 64-bit",
   "language": "python",
   "name": "python3"
  },
  "language_info": {
   "codemirror_mode": {
    "name": "ipython",
    "version": 3
   },
   "file_extension": ".py",
   "mimetype": "text/x-python",
   "name": "python",
   "nbconvert_exporter": "python",
   "pygments_lexer": "ipython3",
   "version": "3.9.7"
  },
  "orig_nbformat": 4
 },
 "nbformat": 4,
 "nbformat_minor": 2
}
