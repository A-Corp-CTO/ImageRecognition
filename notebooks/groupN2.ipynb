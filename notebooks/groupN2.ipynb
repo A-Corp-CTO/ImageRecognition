{
 "cells": [
  {
   "cell_type": "markdown",
   "metadata": {},
   "source": [
    "# Project 2 - Medical Imaging "
   ]
  },
  {
   "cell_type": "markdown",
   "metadata": {},
   "source": [
    "## Imports"
   ]
  },
  {
   "cell_type": "code",
   "execution_count": 66,
   "metadata": {},
   "outputs": [],
   "source": [
    "import os \n",
    "import re \n",
    "\n",
    "import numpy as np \n",
    "import pandas as pd \n",
    "from PIL import Image \n",
    "from matplotlib import pyplot as plt \n",
    "import seaborn as sns \n",
    "\n",
    "from skimage import morphology \n",
    "from skimage.transform import rotate \n",
    "\n",
    "\n",
    "from time import time "
   ]
  },
  {
   "cell_type": "markdown",
   "metadata": {},
   "source": [
    "## Global Variables"
   ]
  },
  {
   "cell_type": "code",
   "execution_count": 36,
   "metadata": {},
   "outputs": [],
   "source": [
    "# Initial parameters for running the notebook \n",
    "PREPROCESS = True \n",
    "COMPUTE_FEATURES = True "
   ]
  },
  {
   "cell_type": "code",
   "execution_count": null,
   "metadata": {},
   "outputs": [],
   "source": []
  },
  {
   "cell_type": "code",
   "execution_count": 47,
   "metadata": {},
   "outputs": [],
   "source": [
    "# Paths to directories used \n",
    "\n",
    "ROOT_DIR = \"../\"\n",
    "DATA_DIR = ROOT_DIR + \"data\"\n",
    "IM_DIR = DATA_DIR + \"/example_image\"\n",
    "MASK_DIR = DATA_DIR + \"/example_segmentation\"\n",
    "DIAGNOSIS_PATH = DATA_DIR + \"/example_ground_truth.csv\"\n"
   ]
  },
  {
   "cell_type": "code",
   "execution_count": 62,
   "metadata": {},
   "outputs": [],
   "source": [
    "# Load all filenames into a dictionary\n",
    "FILENAMES = {}\n",
    "FILENAMES['images'] = sorted([IM_DIR + \"/\" + i for i in list(os.walk(IM_DIR))[0][2]])\n",
    "FILENAMES['masks'] = sorted([f\"{MASK_DIR}/{i}\" for i in list(os.walk(MASK_DIR))[0][2]])\n",
    "FILENAMES['image_num'] = len(FILENAMES['images'])"
   ]
  },
  {
   "cell_type": "markdown",
   "metadata": {},
   "source": [
    "## Helper functions "
   ]
  },
  {
   "cell_type": "code",
   "execution_count": 39,
   "metadata": {},
   "outputs": [],
   "source": [
    "def make_sides_even(image): \n",
    "    '''\n",
    "    Function to make the numbers of columns and rows in \n",
    "    an image even. \n",
    "    Input: An image \n",
    "    Output: An image\n",
    "    '''\n",
    "    # Convert image to numpy array\n",
    "    image = np.array(image)\n",
    "    \n",
    "    # Check if the number of rows is even \n",
    "    if image.shape[0] % 2 != 0: \n",
    "        # Delete the first row\n",
    "        image = np.delete(image,0,axis = 0)\n",
    "    \n",
    "    # Check if the number of columns is even \n",
    "    if image.shape[1] % 2 != 0: \n",
    "        # Delete the first column\n",
    "        image = np.delete(image,0,axis = 1)\n",
    "    \n",
    "    # Convert numpy array back to image \n",
    "    image = Image.fromarray(image)\n",
    "    # Return the updated image \n",
    "    return image"
   ]
  },
  {
   "cell_type": "code",
   "execution_count": 40,
   "metadata": {},
   "outputs": [],
   "source": [
    "def filter_and_crop_image(image_path,mask_path): \n",
    "    image = Image.open(image_path) \n",
    "    mask = Image.open(mask_path)\n",
    "    \n",
    "    image_crop = image.crop(mask.getbbox())\n",
    "    mask_crop = mask.crop(mask.getbbox())\n",
    "    \n",
    "    image_crop = make_sides_even(image_crop)\n",
    "    mask_crop = make_sides_even(mask_crop)\n",
    "\n",
    "    tmp_image = Image.new(\"RGB\",image_crop.size, 0)\n",
    "    filtered_image = Image.composite(image_crop,tmp_image,mask_crop)\n",
    "\n",
    "    return filtered_image, mask_crop, image_crop"
   ]
  },
  {
   "cell_type": "markdown",
   "metadata": {},
   "source": [
    "## Preprocessing"
   ]
  },
  {
   "cell_type": "code",
   "execution_count": 69,
   "metadata": {},
   "outputs": [
    {
     "name": "stdout",
     "output_type": "stream",
     "text": [
      "Directories exist\n",
      "The entire operation took 60.447 seconds\n"
     ]
    }
   ],
   "source": [
    "start = time()\n",
    "if PREPROCESS: \n",
    "    try: \n",
    "        os.makedirs(DATA_DIR + \"/filtered_images\")\n",
    "        os.makedirs(DATA_DIR + \"/filtered_masks\")\n",
    "        os.makedirs(DATA_DIR + \"/cropped_images\")\n",
    "\n",
    "    except FileExistsError:\n",
    "        print(\"Directories exist\")\n",
    "    except IsADirectoryError: \n",
    "        print(\"Directories exist\")\n",
    "    IMAGE_FILTER_DIR = DATA_DIR + \"/filtered_images\"\n",
    "    MASK_FILTER_DIR = DATA_DIR + \"/filtered_masks\"\n",
    "    IMAGE_CROP_DIR = DATA_DIR + \"/cropped_images\"\n",
    "    for i in range(FILENAMES['image_num']):\n",
    "        mask_path = FILENAMES['masks'][i]\n",
    "        image_path = FILENAMES['images'][i]\n",
    "        image, mask, crop = filter_and_crop_image(image_path,mask_path)\n",
    "        image_name = image_path.split(\"/\")[-1].split(\".\")[-2]\n",
    "        mask_name = mask_path.split(\"/\")[-1].split(\".\")[-2]\n",
    "        image.save(IMAGE_FILTER_DIR + \"/\" + image_name + \".jpg\")\n",
    "        mask.save(MASK_FILTER_DIR + \"/\" + mask_name + \".png\")\n",
    "        crop.save(IMAGE_CROP_DIR + \"/\" + image_name + \".jpg\")\n",
    "        del mask_path, image_path, image, mask, crop, image_name, mask_name\n",
    "    \n",
    "    FILENAMES['filtered_images'] = sorted([f\"{IMAGE_FILTER_DIR}/{i}\" for i in os.walk(IMAGE_FILTER_DIR)])\n",
    "    FILENAMES['cropped_images'] = sorted([f\"{IMAGE_CROP_DIR}/{i}\" for i in os.walk(IMAGE_CROP_DIR)])\n",
    "    FILENAMES['cropped_masks'] = sorted([f\"{MASK_FILTER_DIR}/{i}\" for i in os.walk(MASK_FILTER_DIR)])\n",
    "else: \n",
    "    IMAGE_FILTER_DIR = DATA_DIR + \"/filtered_images\"\n",
    "    MASK_FILTER_DIR = DATA_DIR + \"/filtered_masks\"\n",
    "    IMAGE_CROP_DIR = DATA_DIR + \"/cropped_images\"\n",
    "    FILENAMES['filtered_images'] = sorted([f\"{IMAGE_FILTER_DIR}/{i}\" for i in os.walk(IMAGE_FILTER_DIR)])\n",
    "    FILENAMES['cropped_images'] = sorted([f\"{IMAGE_CROP_DIR}/{i}\" for i in os.walk(IMAGE_CROP_DIR)])\n",
    "    FILENAMES['cropped_masks'] = sorted([f\"{MASK_FILTER_DIR}/{i}\" for i in os.walk(MASK_FILTER_DIR)])\n",
    "\n",
    "end = time()\n",
    "print(f\"The entire operation took {end - start:6.3f} seconds\")"
   ]
  },
  {
   "cell_type": "markdown",
   "metadata": {},
   "source": [
    "## Processing "
   ]
  },
  {
   "cell_type": "code",
   "execution_count": null,
   "metadata": {},
   "outputs": [],
   "source": []
  },
  {
   "cell_type": "markdown",
   "metadata": {},
   "source": [
    "## Feature Extraction Functions"
   ]
  },
  {
   "cell_type": "code",
   "execution_count": null,
   "metadata": {},
   "outputs": [],
   "source": [
    "## Find the area and perimeter of the mask \n",
    "def get_area_perimeter(mask): \n",
    "    '''\n",
    "    Function which takes in a mask for a\n",
    "    given image and returns the area and \n",
    "    perimeter of the mask. \n",
    "    '''\n",
    "    area = np.sum(mask)\n",
    "    perimeter = area - np.sum(morphology.binary_erosion(mask,morphology.disk(3)))\n",
    "    return area, perimeter "
   ]
  },
  {
   "cell_type": "code",
   "execution_count": null,
   "metadata": {},
   "outputs": [],
   "source": [
    "def get_compactness(mask): \n",
    "    '''\n",
    "    Function which takes in a mask for a given \n",
    "    image, calls the get_area_perimeter function\n",
    "    to get the area and perimeter, and returns a \n",
    "    compactness score based upon [CITATION NEEDED]. \n",
    "    '''\n",
    "    area, perimeter = get_area_perimeter(mask) \n",
    "    compactness = perimeter ** 2 / (4 * np.pi * area)\n",
    "    return compactness "
   ]
  },
  {
   "cell_type": "code",
   "execution_count": null,
   "metadata": {},
   "outputs": [],
   "source": [
    "def get_asymmetry(mask, rotation=180): \n",
    "    '''\n",
    "    Takes in a mask for a given image, rotates it \n",
    "    180 times by one degree, compares the left and \n",
    "    right half and returns an average asymmetry score.\n",
    "    '''\n",
    "    \n",
    "    axes = 0 \n",
    "    length, width = mask.shape \n",
    "    pad_size = int(max((length, width))/2)\n",
    "    if pad_size % 2 != 0: \n",
    "        pad_size += 1 \n",
    "    mask = np.pad(mask,pad_size)\n",
    "    \n",
    "    diffs = []\n",
    "\n",
    "    while axes * rotation < 180:\n",
    "        temp_mask = rotate(mask, axes * rotation)\n",
    "        length_lesion = np.nonzero(np.sum(temp_mask, axis = 0))[0][-1] - np.nonzero(np.sum(temp_mask, axis = 0))[0][0]\n",
    "        left_mask = temp_mask[0: width, 0:np.nonzero(np.sum(temp_mask, axis = 0))[0][0] + length_lesion//2]\n",
    "        right_mask = temp_mask[0: width, np.nonzero(np.sum(temp_mask, axis = 0))[0][0] + length_lesion//2:length]\n",
    "        diffs.append(np.abs(np.sum(left_mask)-np.sum(right_mask)))\n",
    "        \n",
    "        axes += 1\n",
    "    \n",
    "    diff = np.mean(diffs)\n",
    "    \n",
    "    return diff / np.sum(mask)\n",
    "\n"
   ]
  },
  {
   "cell_type": "code",
   "execution_count": null,
   "metadata": {},
   "outputs": [],
   "source": [
    "def get_average_luminance(image): \n",
    "    '''\n",
    "    A function which takes in an image and\n",
    "    returns the average luminance. \n",
    "    Input: A PIL Image \n",
    "    Output: Average luminance of the image\n",
    "    '''\n",
    "    grayscale = np.array(image.convert('L'))\n",
    "    average_luminance = round(np.mean(grayscale[grayscale > 1]))\n",
    "    return average_luminance"
   ]
  },
  {
   "cell_type": "code",
   "execution_count": null,
   "metadata": {},
   "outputs": [],
   "source": [
    "def get_luminance_variability(image,measure=\"variance\"): \n",
    "    grayscale = np.array(image.convert('L'))\n",
    "    if measure == 'variance': \n",
    "        return round(np.var(grayscale[grayscale > 0]))\n",
    "    elif measure == \"standard_deviation\": \n",
    "        return round(np.std(grayscale[grayscale > 0]))\n",
    "    else: \n",
    "        raise ValueError(\"Only 'variance' or 'standard_deviation' accepted.\") "
   ]
  },
  {
   "cell_type": "code",
   "execution_count": null,
   "metadata": {},
   "outputs": [],
   "source": [
    "def get_avg_color(image): \n",
    "    '''\n",
    "    A function which takes in an image and returns \n",
    "    the average color of the image. \n",
    "    '''\n",
    "    r, g, b = image.split()\n",
    "    r = np.array(r)\n",
    "    g = np.array(g)\n",
    "    b = np.array(b)\n",
    "    average_color = (\n",
    "        round(np.mean(r[r > 0])), \n",
    "        round(np.mean(g[g > 0])), \n",
    "        round(np.mean(b[b > 0]))\n",
    "    )\n",
    "    return average_color"
   ]
  },
  {
   "cell_type": "code",
   "execution_count": null,
   "metadata": {},
   "outputs": [],
   "source": [
    "def get_color_variance(image,measure=\"variance\"): \n",
    "    '''\n",
    "    A function which takes in an image and \n",
    "    returns the variance of the color. \n",
    "    '''\n",
    "    r,g,b = image.split()\n",
    "    r = np.array(r)\n",
    "    g = np.array(g)\n",
    "    b = np.array(b)\n",
    "    if measure == \"variance\": \n",
    "        rgb = (\n",
    "            np.var(r[r>0]),\n",
    "            np.var(g[g>0]),\n",
    "            np.var(b[b>0])\n",
    "        )\n",
    "    elif measure == \"standard_deviation\": \n",
    "        rgb = (\n",
    "            np.std(r[r>0]),\n",
    "            np.std(g[g>0]),\n",
    "            np.std(b[b>0])\n",
    "        )\n",
    "    else: \n",
    "        raise ValueError(\"Only 'variance' or 'standard_deviation' accepted.\") \n",
    "    return np.mean(rgb)"
   ]
  }
 ],
 "metadata": {
  "interpreter": {
   "hash": "916dbcbb3f70747c44a77c7bcd40155683ae19c65e1c03b4aa3499c5328201f1"
  },
  "kernelspec": {
   "display_name": "Python 3.9.7 64-bit",
   "language": "python",
   "name": "python3"
  },
  "language_info": {
   "codemirror_mode": {
    "name": "ipython",
    "version": 3
   },
   "file_extension": ".py",
   "mimetype": "text/x-python",
   "name": "python",
   "nbconvert_exporter": "python",
   "pygments_lexer": "ipython3",
   "version": "3.9.7"
  },
  "orig_nbformat": 4
 },
 "nbformat": 4,
 "nbformat_minor": 2
}
