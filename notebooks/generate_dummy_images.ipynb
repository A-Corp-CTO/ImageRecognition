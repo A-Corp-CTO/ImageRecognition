{
 "cells": [
  {
   "cell_type": "code",
   "execution_count": null,
   "metadata": {},
   "outputs": [],
   "source": [
    "import numpy as np \n",
    "from matplotlib import pyplot as plt \n",
    "from PIL import Image, ImageDraw \n",
    "import random \n"
   ]
  },
  {
   "cell_type": "code",
   "execution_count": null,
   "metadata": {},
   "outputs": [],
   "source": [
    "def create_triangle(output_path,size=1,pos=0,rotation=0): \n",
    "\n",
    "    return \n",
    "\n",
    "def create_circle(output_path,size=1,pos=0):\n",
    "\n",
    "    return \n",
    "\n",
    "def create_ellipsis(output_path,size=1,pos=0,rotation=0):\n",
    "\n",
    "    return \n"
   ]
  }
 ],
 "metadata": {
  "language_info": {
   "name": "python"
  },
  "orig_nbformat": 4
 },
 "nbformat": 4,
 "nbformat_minor": 2
}
