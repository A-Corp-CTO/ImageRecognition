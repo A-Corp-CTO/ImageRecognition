{
 "cells": [
  {
   "cell_type": "code",
   "execution_count": 1,
   "metadata": {},
   "outputs": [],
   "source": [
    "import numpy as np \n",
    "import os \n"
   ]
  },
  {
   "cell_type": "code",
   "execution_count": 3,
   "metadata": {},
   "outputs": [],
   "source": [
    "mask_list = [i for i in list(os.walk(\"../data/filtered_masks\"))[0][2]]"
   ]
  },
  {
   "cell_type": "code",
   "execution_count": 4,
   "metadata": {},
   "outputs": [
    {
     "name": "stdout",
     "output_type": "stream",
     "text": [
      "['ISIC_0009941_segmentation.png', 'ISIC_0011158_segmentation.png', 'ISIC_0002829_segmentation.png', 'ISIC_0012284_segmentation.png', 'ISIC_0010455_segmentation.png', 'ISIC_0010240_segmentation.png', 'ISIC_0011330_segmentation.png', 'ISIC_0007475_segmentation.png', 'ISIC_0000409_segmentation.png', 'ISIC_0009960_segmentation.png']\n"
     ]
    }
   ],
   "source": [
    "tmp_df = {\n",
    "    'image_id': [],\n",
    "    'length': [],\n",
    "    'height': []\n",
    "}"
   ]
  },
  {
   "cell_type": "code",
   "execution_count": null,
   "metadata": {},
   "outputs": [],
   "source": [
    "for i in mask_list: \n",
    "    tmp_array = np.imread(f'../data/filtered_masks/{i}')\n",
    "    length, height = tmp_array.shape\n"
   ]
  }
 ],
 "metadata": {
  "interpreter": {
   "hash": "916dbcbb3f70747c44a77c7bcd40155683ae19c65e1c03b4aa3499c5328201f1"
  },
  "kernelspec": {
   "display_name": "Python 3.9.7 64-bit",
   "language": "python",
   "name": "python3"
  },
  "language_info": {
   "codemirror_mode": {
    "name": "ipython",
    "version": 3
   },
   "file_extension": ".py",
   "mimetype": "text/x-python",
   "name": "python",
   "nbconvert_exporter": "python",
   "pygments_lexer": "ipython3",
   "version": "3.9.7"
  },
  "orig_nbformat": 4
 },
 "nbformat": 4,
 "nbformat_minor": 2
}
