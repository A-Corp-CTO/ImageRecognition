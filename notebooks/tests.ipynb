{
 "cells": [
  {
   "cell_type": "code",
   "execution_count": 19,
   "metadata": {},
   "outputs": [],
   "source": [
    "from groupN2_mask_creation import create_mask\n",
    "import random \n",
    "import os \n",
    "from matplotlib import pyplot as plt \n",
    "import json "
   ]
  },
  {
   "cell_type": "code",
   "execution_count": 26,
   "metadata": {},
   "outputs": [],
   "source": [
    "segments = [i for i in range(0,1000,10)][1:]\n",
    "disk_size = [i for i in range(0,10,2)][1:]\n",
    "slic_sigma = [i for i in range(0,10)]\n",
    "compactness = [0.01]\n",
    "for i in range(10): \n",
    "    compactness.append(compactness[-1]*10)\n",
    "cut_off = [0.5,0.6,0.7,0.8,0.9]\n",
    "\n",
    "attr = [[i,j,k,l,m] for i in segments \n",
    "                    for j in disk_size \n",
    "                    for k in slic_sigma\n",
    "                    for l in compactness\n",
    "                    for m in cut_off]\n",
    "attribute_set = 1\n",
    "for i in attr: \n",
    "    # print(attribute_set)\n",
    "    tmp_dict = {\n",
    "        \"segments\": i[0],\n",
    "        \"disk_size\": i[1], \n",
    "        \"slic_sigma\": i[2], \n",
    "        \"compactness\": i[3], \n",
    "        \"cut_off\": i[4],\n",
    "        \"attribute_set\": attribute_set\n",
    "    }\n",
    "    with open(f\"../data/test_data/{attribute_set}.json\", \"w\") as outfile:\n",
    "        json.dump(tmp_dict,outfile)\n",
    "    attribute_set += 1"
   ]
  },
  {
   "cell_type": "code",
   "execution_count": null,
   "metadata": {},
   "outputs": [],
   "source": []
  },
  {
   "cell_type": "code",
   "execution_count": 12,
   "metadata": {},
   "outputs": [],
   "source": [
    "def find_images(path, number, seed,): \n",
    "    im_list = os.walk(path)\n",
    "    im_list = [i for i in im_list][0][2]\n",
    "    random.seed(seed)\n",
    "    random_list = []\n",
    "    while len(random_list) != number: \n",
    "        tmp_random = random.randint(0,len(im_list)-1)\n",
    "        if tmp_random in random_list:\n",
    "            continue \n",
    "        else: \n",
    "            random_list.append(tmp_random)\n",
    "    return im_list "
   ]
  },
  {
   "cell_type": "code",
   "execution_count": 15,
   "metadata": {},
   "outputs": [],
   "source": [
    "tmp = find_images(\"../data/example_image\",50,7)"
   ]
  },
  {
   "cell_type": "code",
   "execution_count": null,
   "metadata": {},
   "outputs": [],
   "source": [
    "def generate_masks(in_path, out_path,number,seed, attributes): \n",
    "    im_list = find_images(in_path,number,seed)\n",
    "    for im in im_list: \n",
    "        im_name = f\"{in_path}/{im}\"\n",
    "        mask = create_mask(im_name, attributes['segments'],attributes['disk_size'],attributes['slic_sigma'],attributes['compactness'],attributes['cut_off'])\n",
    "        out_name = im.split(\".\")\n",
    "        out_name = f\"{out_name[0]}_{attributes['attribute_set']}.png\"\n",
    "        plt.imsave(out_name,mask,cmap=\"gray\")\n"
   ]
  },
  {
   "cell_type": "code",
   "execution_count": 18,
   "metadata": {},
   "outputs": [
    {
     "name": "stdout",
     "output_type": "stream",
     "text": [
      "[10, 20, 30, 40, 50, 60, 70, 80, 90, 100]\n"
     ]
    }
   ],
   "source": [
    "def test_all_attributes(attr_path,in_path,out_path,number,seed):\n",
    "    attr_list = os.walk(attr_path)\n",
    "    attr_list = [i for i in attr_list][0][2]\n",
    "    for i in attr_list:\n",
    "        with open(f\"{attr_path}/{i}\",\"r\") as infile: \n",
    "            tmp_json = json.load(infile)\n",
    "        generate_masks(in_path,out_path,number,seed,tmp_json)\n",
    "\n",
    "\n"
   ]
  }
 ],
 "metadata": {
  "interpreter": {
   "hash": "916dbcbb3f70747c44a77c7bcd40155683ae19c65e1c03b4aa3499c5328201f1"
  },
  "kernelspec": {
   "display_name": "Python 3.9.7 64-bit",
   "language": "python",
   "name": "python3"
  },
  "language_info": {
   "codemirror_mode": {
    "name": "ipython",
    "version": 3
   },
   "file_extension": ".py",
   "mimetype": "text/x-python",
   "name": "python",
   "nbconvert_exporter": "python",
   "pygments_lexer": "ipython3",
   "version": "3.9.7"
  },
  "orig_nbformat": 4
 },
 "nbformat": 4,
 "nbformat_minor": 2
}
