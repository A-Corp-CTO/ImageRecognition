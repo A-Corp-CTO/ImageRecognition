{
 "cells": [
  {
   "cell_type": "code",
   "execution_count": 25,
   "metadata": {},
   "outputs": [],
   "source": [
    "from groupN2_mask_creation import create_mask\n",
    "import random \n",
    "import os \n",
    "from matplotlib import pyplot as plt \n",
    "import json \n",
    "from joblib import Parallel, delayed\n",
    "import multiprocessing"
   ]
  },
  {
   "cell_type": "code",
   "execution_count": 26,
   "metadata": {},
   "outputs": [],
   "source": [
    "segments = [i for i in range(0,1000,25)][1:]\n",
    "disk_size = [i for i in range(0,10,2)][1:]\n",
    "slic_sigma = [i for i in range(0,5)]\n",
    "compactness = [0.01]\n",
    "for i in range(10): \n",
    "    compactness.append(compactness[-1]*4)\n",
    "cut_off = [0.5,0.6,0.7]\n",
    "\n",
    "attr = [[i,j,k,l,m] for i in segments \n",
    "                    for j in disk_size \n",
    "                    for k in slic_sigma\n",
    "                    for l in compactness\n",
    "                    for m in cut_off]\n",
    "attribute_set = 1\n",
    "for i in attr: \n",
    "    # print(attribute_set)\n",
    "    tmp_dict = {\n",
    "        \"segments\": i[0],\n",
    "        \"disk_size\": i[1], \n",
    "        \"slic_sigma\": i[2], \n",
    "        \"compactness\": i[3], \n",
    "        \"cut_off\": i[4],\n",
    "        \"attribute_set\": attribute_set\n",
    "    }\n",
    "    with open(f\"../data/test_data/{attribute_set}.json\", \"w\") as outfile:\n",
    "        json.dump(tmp_dict,outfile)\n",
    "    attribute_set += 1"
   ]
  },
  {
   "cell_type": "code",
   "execution_count": null,
   "metadata": {},
   "outputs": [],
   "source": []
  },
  {
   "cell_type": "code",
   "execution_count": 27,
   "metadata": {},
   "outputs": [],
   "source": [
    "def find_images(path, number, seed,): \n",
    "    im_list = os.walk(path)\n",
    "    im_list = [i for i in im_list][0][2]\n",
    "    random.seed(seed)\n",
    "    random_list = []\n",
    "    while len(random_list) != number: \n",
    "        tmp_random = random.randint(0,len(im_list)-1)\n",
    "        if tmp_random in random_list:\n",
    "            continue \n",
    "        else: \n",
    "            random_list.append(tmp_random)\n",
    "    return im_list "
   ]
  },
  {
   "cell_type": "code",
   "execution_count": 34,
   "metadata": {},
   "outputs": [],
   "source": [
    "def generate_mask(in_path, out_path, attributes,im): \n",
    "    im_name = f\"{in_path}/{im}\"\n",
    "    mask = create_mask(im_name, attributes['segments'],attributes['disk_size'],attributes['slic_sigma'],attributes['compactness'],attributes['cut_off'])\n",
    "    out_name = im.split(\".\")\n",
    "    out_name = f\"{out_path}/{out_name[0]}_{attributes['attribute_set']}.png\"\n",
    "    plt.imsave(out_name,mask,cmap=\"gray\")\n"
   ]
  },
  {
   "cell_type": "code",
   "execution_count": 37,
   "metadata": {},
   "outputs": [],
   "source": [
    "def processInput(i,in_path,out_path,attr_path,im_list):\n",
    "    with open(f\"{attr_path}/{i}\",\"r\") as infile: \n",
    "        tmp_json = json.load(infile)\n",
    "    \n",
    "    for j in im_list:\n",
    "        print(f\"{tmp_json['attribute_set']} - {j}\")\n",
    "        generate_mask(in_path,out_path,tmp_json,j)\n",
    "\n",
    "\n",
    "def test_all_attributes(attr_path,in_path,out_path,number,seed):\n",
    "    attr_list = os.walk(attr_path)\n",
    "    attr_list = sorted([i for i in attr_list][0][2])\n",
    "    im_list = find_images(in_path,number,seed)\n",
    "    print(len(attr_list))\n",
    "    # num_cores = multiprocessing.cpu_count()\n",
    "    # Parallel(n_jobs=num_cores/2)(delayed(processInput)(i,in_path,out_path,attr_path,number,seed) for i in attr_list)\n",
    "    for i in attr_list:\n",
    "        with open(f\"{attr_path}/{i}\",\"r\") as infile: \n",
    "            tmp_json = json.load(infile)\n",
    "        \n",
    "        for j in im_list:\n",
    "            print(f\"{tmp_json['attribute_set']} - {j}\")\n",
    "            generate_mask(in_path,out_path,tmp_json,j)\n",
    "        \n",
    "        \n",
    "def test_all_attributes_parallel(attr_path,in_path,out_path,number,seed):\n",
    "    attr_list = os.walk(attr_path)\n",
    "    attr_list = sorted([i for i in attr_list][0][2])\n",
    "    im_list = find_images(in_path,number,seed)\n",
    "    print(len(attr_list))\n",
    "    num_cores = multiprocessing.cpu_count()\n",
    "    Parallel(n_jobs=num_cores/2)(delayed(processInput)(i,in_path,out_path,attr_path,im_list) for i in attr_list)\n",
    "    # for i in attr_list:\n",
    "    #     with open(f\"{attr_path}/{i}\",\"r\") as infile: \n",
    "    #         tmp_json = json.load(infile)\n",
    "        \n",
    "    #     for j in im_list:\n",
    "    #         print(f\"{tmp_json['attribute_set']} - {j}\")\n",
    "    #         generate_mask(in_path,out_path,tmp_json,j)        \n",
    "\n",
    "\n"
   ]
  },
  {
   "cell_type": "code",
   "execution_count": 36,
   "metadata": {},
   "outputs": [
    {
     "name": "stdout",
     "output_type": "stream",
     "text": [
      "25740\n",
      "1 - ISIC_0014310.jpg\n",
      "1 - ISIC_0012927.jpg\n"
     ]
    },
    {
     "ename": "KeyboardInterrupt",
     "evalue": "",
     "output_type": "error",
     "traceback": [
      "\u001b[0;31m---------------------------------------------------------------------------\u001b[0m",
      "\u001b[0;31mKeyboardInterrupt\u001b[0m                         Traceback (most recent call last)",
      "\u001b[0;32m/tmp/ipykernel_3831/1008137427.py\u001b[0m in \u001b[0;36m<module>\u001b[0;34m\u001b[0m\n\u001b[0;32m----> 1\u001b[0;31m \u001b[0mtest_all_attributes\u001b[0m\u001b[0;34m(\u001b[0m\u001b[0;34m'../data/test_data'\u001b[0m\u001b[0;34m,\u001b[0m\u001b[0;34m'../data/example_image'\u001b[0m\u001b[0;34m,\u001b[0m\u001b[0;34m'../data/mask_tests'\u001b[0m\u001b[0;34m,\u001b[0m\u001b[0;36m25\u001b[0m\u001b[0;34m,\u001b[0m\u001b[0;36m7\u001b[0m\u001b[0;34m)\u001b[0m\u001b[0;34m\u001b[0m\u001b[0;34m\u001b[0m\u001b[0m\n\u001b[0m",
      "\u001b[0;32m/tmp/ipykernel_3831/4003548028.py\u001b[0m in \u001b[0;36mtest_all_attributes\u001b[0;34m(attr_path, in_path, out_path, number, seed)\u001b[0m\n\u001b[1;32m     19\u001b[0m         \u001b[0;32mfor\u001b[0m \u001b[0mj\u001b[0m \u001b[0;32min\u001b[0m \u001b[0mim_list\u001b[0m\u001b[0;34m:\u001b[0m\u001b[0;34m\u001b[0m\u001b[0;34m\u001b[0m\u001b[0m\n\u001b[1;32m     20\u001b[0m             \u001b[0mprint\u001b[0m\u001b[0;34m(\u001b[0m\u001b[0;34mf\"{tmp_json['attribute_set']} - {j}\"\u001b[0m\u001b[0;34m)\u001b[0m\u001b[0;34m\u001b[0m\u001b[0;34m\u001b[0m\u001b[0m\n\u001b[0;32m---> 21\u001b[0;31m             \u001b[0mgenerate_mask\u001b[0m\u001b[0;34m(\u001b[0m\u001b[0min_path\u001b[0m\u001b[0;34m,\u001b[0m\u001b[0mout_path\u001b[0m\u001b[0;34m,\u001b[0m\u001b[0mtmp_json\u001b[0m\u001b[0;34m,\u001b[0m\u001b[0mj\u001b[0m\u001b[0;34m)\u001b[0m\u001b[0;34m\u001b[0m\u001b[0;34m\u001b[0m\u001b[0m\n\u001b[0m\u001b[1;32m     22\u001b[0m \u001b[0;34m\u001b[0m\u001b[0m\n\u001b[1;32m     23\u001b[0m \u001b[0;34m\u001b[0m\u001b[0m\n",
      "\u001b[0;32m/tmp/ipykernel_3831/3839965664.py\u001b[0m in \u001b[0;36mgenerate_mask\u001b[0;34m(in_path, out_path, attributes, im)\u001b[0m\n\u001b[1;32m      1\u001b[0m \u001b[0;32mdef\u001b[0m \u001b[0mgenerate_mask\u001b[0m\u001b[0;34m(\u001b[0m\u001b[0min_path\u001b[0m\u001b[0;34m,\u001b[0m \u001b[0mout_path\u001b[0m\u001b[0;34m,\u001b[0m \u001b[0mattributes\u001b[0m\u001b[0;34m,\u001b[0m\u001b[0mim\u001b[0m\u001b[0;34m)\u001b[0m\u001b[0;34m:\u001b[0m\u001b[0;34m\u001b[0m\u001b[0;34m\u001b[0m\u001b[0m\n\u001b[1;32m      2\u001b[0m     \u001b[0mim_name\u001b[0m \u001b[0;34m=\u001b[0m \u001b[0;34mf\"{in_path}/{im}\"\u001b[0m\u001b[0;34m\u001b[0m\u001b[0;34m\u001b[0m\u001b[0m\n\u001b[0;32m----> 3\u001b[0;31m     \u001b[0mmask\u001b[0m \u001b[0;34m=\u001b[0m \u001b[0mcreate_mask\u001b[0m\u001b[0;34m(\u001b[0m\u001b[0mim_name\u001b[0m\u001b[0;34m,\u001b[0m \u001b[0mattributes\u001b[0m\u001b[0;34m[\u001b[0m\u001b[0;34m'segments'\u001b[0m\u001b[0;34m]\u001b[0m\u001b[0;34m,\u001b[0m\u001b[0mattributes\u001b[0m\u001b[0;34m[\u001b[0m\u001b[0;34m'disk_size'\u001b[0m\u001b[0;34m]\u001b[0m\u001b[0;34m,\u001b[0m\u001b[0mattributes\u001b[0m\u001b[0;34m[\u001b[0m\u001b[0;34m'slic_sigma'\u001b[0m\u001b[0;34m]\u001b[0m\u001b[0;34m,\u001b[0m\u001b[0mattributes\u001b[0m\u001b[0;34m[\u001b[0m\u001b[0;34m'compactness'\u001b[0m\u001b[0;34m]\u001b[0m\u001b[0;34m,\u001b[0m\u001b[0mattributes\u001b[0m\u001b[0;34m[\u001b[0m\u001b[0;34m'cut_off'\u001b[0m\u001b[0;34m]\u001b[0m\u001b[0;34m)\u001b[0m\u001b[0;34m\u001b[0m\u001b[0;34m\u001b[0m\u001b[0m\n\u001b[0m\u001b[1;32m      4\u001b[0m     \u001b[0mout_name\u001b[0m \u001b[0;34m=\u001b[0m \u001b[0mim\u001b[0m\u001b[0;34m.\u001b[0m\u001b[0msplit\u001b[0m\u001b[0;34m(\u001b[0m\u001b[0;34m\".\"\u001b[0m\u001b[0;34m)\u001b[0m\u001b[0;34m\u001b[0m\u001b[0;34m\u001b[0m\u001b[0m\n\u001b[1;32m      5\u001b[0m     \u001b[0mout_name\u001b[0m \u001b[0;34m=\u001b[0m \u001b[0;34mf\"{out_path}/{out_name[0]}_{attributes['attribute_set']}.png\"\u001b[0m\u001b[0;34m\u001b[0m\u001b[0;34m\u001b[0m\u001b[0m\n",
      "\u001b[0;32m~/Desktop/fyp2022-proj2groupN2/notebooks/groupN2_mask_creation.py\u001b[0m in \u001b[0;36mcreate_mask\u001b[0;34m(im, segments, disk_size, slic_sigma, slic_compactness, cut_off)\u001b[0m\n\u001b[1;32m     50\u001b[0m     \u001b[0;32mfor\u001b[0m \u001b[0mi\u001b[0m \u001b[0;32min\u001b[0m \u001b[0mtmp_tmp_list\u001b[0m\u001b[0;34m:\u001b[0m\u001b[0;34m\u001b[0m\u001b[0;34m\u001b[0m\u001b[0m\n\u001b[1;32m     51\u001b[0m         \u001b[0;32mfor\u001b[0m \u001b[0mk\u001b[0m \u001b[0;32min\u001b[0m \u001b[0mtmp_dict\u001b[0m\u001b[0;34m[\u001b[0m\u001b[0mstr\u001b[0m\u001b[0;34m(\u001b[0m\u001b[0mi\u001b[0m\u001b[0;34m)\u001b[0m\u001b[0;34m]\u001b[0m\u001b[0;34m[\u001b[0m\u001b[0;34m'Coordinates'\u001b[0m\u001b[0;34m]\u001b[0m\u001b[0;34m:\u001b[0m\u001b[0;34m\u001b[0m\u001b[0;34m\u001b[0m\u001b[0m\n\u001b[0;32m---> 52\u001b[0;31m             \u001b[0mtmp_array\u001b[0m\u001b[0;34m[\u001b[0m\u001b[0mk\u001b[0m\u001b[0;34m[\u001b[0m\u001b[0;36m0\u001b[0m\u001b[0;34m]\u001b[0m\u001b[0;34m,\u001b[0m\u001b[0mk\u001b[0m\u001b[0;34m[\u001b[0m\u001b[0;36m1\u001b[0m\u001b[0;34m]\u001b[0m\u001b[0;34m]\u001b[0m \u001b[0;34m=\u001b[0m \u001b[0;36m1\u001b[0m\u001b[0;34m\u001b[0m\u001b[0;34m\u001b[0m\u001b[0m\n\u001b[0m\u001b[1;32m     53\u001b[0m \u001b[0;34m\u001b[0m\u001b[0m\n\u001b[1;32m     54\u001b[0m     \u001b[0;32mreturn\u001b[0m \u001b[0mtmp_array\u001b[0m\u001b[0;34m\u001b[0m\u001b[0;34m\u001b[0m\u001b[0m\n",
      "\u001b[0;31mKeyboardInterrupt\u001b[0m: "
     ]
    }
   ],
   "source": [
    "test_all_attributes_parallel('../data/test_data','../data/example_image','../data/mask_tests',25,7)"
   ]
  }
 ],
 "metadata": {
  "interpreter": {
   "hash": "916dbcbb3f70747c44a77c7bcd40155683ae19c65e1c03b4aa3499c5328201f1"
  },
  "kernelspec": {
   "display_name": "Python 3.9.7 64-bit",
   "language": "python",
   "name": "python3"
  },
  "language_info": {
   "codemirror_mode": {
    "name": "ipython",
    "version": 3
   },
   "file_extension": ".py",
   "mimetype": "text/x-python",
   "name": "python",
   "nbconvert_exporter": "python",
   "pygments_lexer": "ipython3",
   "version": "3.9.7"
  },
  "orig_nbformat": 4
 },
 "nbformat": 4,
 "nbformat_minor": 2
}
